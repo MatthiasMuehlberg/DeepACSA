{
 "cells": [
  {
   "cell_type": "code",
   "execution_count": 1,
   "id": "9d9804b5",
   "metadata": {},
   "outputs": [],
   "source": [
    "from PIL import Image, ImageOps\n",
    "import glob \n",
    "import cv2\n",
    "import os"
   ]
  },
  {
   "cell_type": "markdown",
   "id": "adequate-gateway",
   "metadata": {},
   "source": [
    "## Define Preparing Functions"
   ]
  },
  {
   "cell_type": "code",
   "execution_count": 19,
   "id": "1c541e85",
   "metadata": {
    "scrolled": true
   },
   "outputs": [],
   "source": [
    "def prepare_quad_vl_imgs(rootpath, filetype, output, img_name):\n",
    "    \"\"\"\n",
    "    Function to crop whole quadriceps images to be used in DeepACSA.\n",
    "    Images can be nested to up to two subdirectories.\n",
    "    Arguments: Rootpath of folder with images to be cropped, \n",
    "               type of image files (tiff, png, bmp...), \n",
    "               output directory for images, \n",
    "               name of outputted images\n",
    "    Returns: Cropped and flipped images in output directory. \n",
    "    Example: \n",
    "    >>> prepare_quad_images(\"C:/User/Desktop/Imgs\", \"/**/*.bmp\", \"C:/User/Desktop/Prep_Imgs\")\n",
    "    \n",
    "    \"\"\"\n",
    "\n",
    "    # Get list of images\n",
    "    list_of_files = glob.glob(rootpath + filetype, recursive=True)\n",
    "    # Create index\n",
    "    num = 0\n",
    "\n",
    "    # Loop trough images\n",
    "    for imagepath in list_of_files: \n",
    "        img = Image.open(imagepath)\n",
    "        # Rotate image\n",
    "        img_rot = img.rotate(-30, Image.NEAREST, expand = 1)\n",
    "        img_flip = img_rot.transpose(Image.FLIP_LEFT_RIGHT)\n",
    "        # Crop image\n",
    "        width, height = img_flip.size \n",
    "        img_crop = img_flip.crop((width - 700, height-700, width, height-120))\n",
    "        #img_crop.show()\n",
    "        img_crop.save(output + img_name + str(num) + \".png\", quality=100)\n",
    "        # Increase index\n",
    "        num += 1\n",
    "\n",
    "def prepare_quad_rf_imgs(rootpath, filetype, output, img_name):\n",
    "    \"\"\"\n",
    "    Function to crop whole quadriceps images to be used in DeepACSA.\n",
    "    Images can be nested to up to two subdirectories.\n",
    "    Arguments: Rootpath of folder with images to be cropped, \n",
    "               type of image files (tiff, png, bmp...), \n",
    "               output directory for images, \n",
    "               name of outputted images\n",
    "    Returns: Cropped and flipped images in output directory. \n",
    "    Example: \n",
    "    >>> prepare_quad_images(\"C:/User/Desktop/Imgs\", \"/**/*.bmp\", \"C:/User/Desktop/Prep_Imgs\")\n",
    "    \n",
    "    \"\"\"\n",
    "\n",
    "    # Get list of images\n",
    "    list_of_files = glob.glob(rootpath + filetype, recursive=True)\n",
    "    # Create index\n",
    "    num = 0\n",
    "\n",
    "    # Loop trough images\n",
    "    for imagepath in list_of_files: \n",
    "        img = Image.open(imagepath)\n",
    "        # Rotate image\n",
    "        img_rot = img.rotate(-20, Image.NEAREST, expand = 1)\n",
    "        # Crop image\n",
    "        width, height = img_rot.size \n",
    "        img_crop = img_rot.crop((width - 575, height-650, width, height-200))\n",
    "        img_crop.show()\n",
    "        img_crop.save(output + img_name + str(num) + \".png\", quality=100)\n",
    "        # Increase index\n",
    "        num += 1        \n",
    "        \n",
    "def prepare_imgs(rootpath, filetype, output, img_name): \n",
    "    \"\"\"\n",
    "    Function to crop images to be used in DeepACSA.\n",
    "    Images can be nested to up to two subdirectories.\n",
    "    Arguments: Rootpath of folder with images to be cropped,\n",
    "               type of image files (tiff, png, bmp...), \n",
    "               output directory for images, \n",
    "               name of outputted images.\n",
    "    Returns: Cropped and flipped images in output directory. \n",
    "    Example: \n",
    "    >>> prepare_images(\"C:/User/Desktop/Imgs\")\n",
    "    \n",
    "    \"\"\"\n",
    "    \n",
    "    # Get list of images\n",
    "    list_of_files = glob.glob(rootpath + filetype, recursive=True)\n",
    "    # Create index\n",
    "    num = 0\n",
    "\n",
    "    # Loop trough images\n",
    "    for imagepath in list_of_files: \n",
    "        img = Image.open(imagepath)\n",
    "        # Crop image\n",
    "        width, height = img.size \n",
    "        img_crop = img.crop((width - (0.87 * width), \n",
    "                             height - (0.87 * height),\n",
    "                             width,\n",
    "                             height - (0.05 * height)))\n",
    "        img_crop.show()\n",
    "        img_crop.save(output + img_name + str(num) + \".png\", quality=100)\n",
    "        # Increase index\n",
    "        num += 1"
   ]
  },
  {
   "cell_type": "markdown",
   "id": "favorite-universe",
   "metadata": {},
   "source": [
    "## Execute functions"
   ]
  },
  {
   "cell_type": "markdown",
   "id": "settled-villa",
   "metadata": {},
   "source": [
    "### Quadrcieps VL"
   ]
  },
  {
   "cell_type": "markdown",
   "id": "copyrighted-grade",
   "metadata": {},
   "source": [
    "Use before creating image masks for training!"
   ]
  },
  {
   "cell_type": "code",
   "execution_count": null,
   "id": "protecting-router",
   "metadata": {},
   "outputs": [],
   "source": [
    "# Get hardcoded root, image file type and output directory\n",
    "rootpath = \"C:/Users/Paul/Desktop/Paul_BBSRC3 Young/Baseline\"\n",
    "filetype = \"/**/*.bmp\" \n",
    "# Subfolder in WD needed called \"Real\"\n",
    "output = \"C:/Users/Paul/Desktop/Paul_BBSRC3 Young/Output/\"\n",
    "img_name = \"vl_crop\"\n",
    "\n",
    "prepare_quad_vl_imgs(rootpath, filetype, output, img_name)"
   ]
  },
  {
   "cell_type": "markdown",
   "id": "sunset-builder",
   "metadata": {},
   "source": [
    "### Quadriceps RF"
   ]
  },
  {
   "cell_type": "markdown",
   "id": "respected-killer",
   "metadata": {},
   "source": [
    "Use before creating image masks for training!"
   ]
  },
  {
   "cell_type": "code",
   "execution_count": 20,
   "id": "adapted-analysis",
   "metadata": {},
   "outputs": [],
   "source": [
    "# Get hardcoded root, image file type and output directory\n",
    "rootpath = \"C:/Users/Paul/Desktop/Paul_BBSRC3 Young/Output/young_30%_pre\"\n",
    "filetype = \"/**/*.bmp\" \n",
    "# Subfolder in WD needed called \"Real\"\n",
    "output = \"C:/Users/Paul/Desktop/Paul_BBSRC3 Young/Output\"\n",
    "img_name = \"rf_crop\"\n",
    "\n",
    "prepare_quad_rf_imgs(rootpath, filetype, output, img_name)"
   ]
  },
  {
   "cell_type": "markdown",
   "id": "indonesian-modeling",
   "metadata": {},
   "source": [
    "### Prepare final imgs and masks"
   ]
  },
  {
   "cell_type": "markdown",
   "id": "effective-firmware",
   "metadata": {},
   "source": [
    "Use after creating masks on both, images and masks!"
   ]
  },
  {
   "cell_type": "code",
   "execution_count": 16,
   "id": "76fde7f5",
   "metadata": {},
   "outputs": [],
   "source": [
    "# Get hardcoded root, image file type and output directory\n",
    "rootpath = \"C:/Users/Paul/Desktop/Test_image\"\n",
    "filetype = \"/**/*.tif\"\n",
    "output = \"C:/Users/Paul/Desktop/Test_image\"\n",
    "img_name  = \"vl_crop\"\n",
    "\n",
    "prepare_imgs(rootpath, filetype, output, img_name)"
   ]
  }
 ],
 "metadata": {
  "kernelspec": {
   "display_name": "Python 3",
   "language": "python",
   "name": "python3"
  },
  "language_info": {
   "codemirror_mode": {
    "name": "ipython",
    "version": 3
   },
   "file_extension": ".py",
   "mimetype": "text/x-python",
   "name": "python",
   "nbconvert_exporter": "python",
   "pygments_lexer": "ipython3",
   "version": "3.8.10"
  }
 },
 "nbformat": 4,
 "nbformat_minor": 5
}
