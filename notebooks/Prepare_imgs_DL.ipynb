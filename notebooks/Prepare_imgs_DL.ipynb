{
 "cells": [
  {
   "cell_type": "code",
   "execution_count": 4,
   "id": "9d9804b5",
   "metadata": {},
   "outputs": [],
   "source": [
    "from PIL import Image, ImageOps\n",
    "import glob \n",
    "import cv2\n",
    "import os\n",
    "import numpy as np"
   ]
  },
  {
   "cell_type": "markdown",
   "id": "adequate-gateway",
   "metadata": {},
   "source": [
    "## Define Preparing Functions"
   ]
  },
  {
   "cell_type": "code",
   "execution_count": 5,
   "id": "dress-start",
   "metadata": {
    "scrolled": true
   },
   "outputs": [],
   "source": [
    "def prepare_quad_vl_imgs(rootpath, filetype, output, img_name):\n",
    "    \"\"\"\n",
    "    Function to crop whole quadriceps images to be used in DeepACSA.\n",
    "    Images can be nested to up to two subdirectories.\n",
    "    Arguments: Rootpath of folder with images to be cropped, \n",
    "               type of image files (tiff, png, bmp...), \n",
    "               output directory for images, \n",
    "               name of outputted images\n",
    "    Returns: Cropped and flipped images in output directory. \n",
    "    Example: \n",
    "    >>> prepare_quad_images(\"C:/User/Desktop/Imgs\", \"/**/*.png\", \"C:/User/Desktop/Prep_Imgs\")\n",
    "    \n",
    "    \"\"\"\n",
    "\n",
    "    # Get list of images\n",
    "    list_of_files = glob.glob(rootpath + filetype, recursive=True)\n",
    "    # Create index\n",
    "    num = 0\n",
    "\n",
    "    # Loop trough images\n",
    "    for imagepath in list_of_files: \n",
    "        img = cv2.imread(imagepath,0)\n",
    "        rows,cols = img.shape\n",
    "        # Rotate image\n",
    "        rot_M = cv2.getRotationMatrix2D(((cols - 1) /2.0, (rows - 1) / 2.0), -45, 0.9)\n",
    "        img_rot =  cv2.warpAffine(img, rot_M, (cols,rows))\n",
    "        # Translate image\n",
    "        trans_M = np.float32([[1, 0, -35], [0, 1, 50]])\n",
    "        img_trans = cv2.warpAffine(img_rot, trans_M, (cols,rows))\n",
    "        img_flip = cv2.flip(img_trans, 1)\n",
    "        # Crop image\n",
    "        img_crop = img_flip[150:, 250:700]\n",
    "        #cv2.imshow(\"img_crop\", img_crop)\n",
    "        #cv2.waitKey(0)\n",
    "        #cv2.destroyAllWindows()\n",
    "        # Save image\n",
    "        cv2.imwrite(output + img_name + str(num) + \".tif\", img_crop)\n",
    "        # Increase index\n",
    "        num += 1\n",
    "\n",
    "def prepare_quad_rf_imgs(rootpath, filetype, output, img_name):\n",
    "    \"\"\"\n",
    "    Function to crop whole quadriceps images to be used in DeepACSA.\n",
    "    Images can be nested to up to two subdirectories.\n",
    "    Arguments: Rootpath of folder with images to be cropped, \n",
    "               type of image files (tiff, png, bmp...), \n",
    "               output directory for images, \n",
    "               name of outputted images\n",
    "    Returns: Cropped and flipped images in output directory. \n",
    "    Example: \n",
    "    >>> prepare_quad_images(\"C:/User/Desktop/Imgs\", \"/**/*.bmp\", \"C:/User/Desktop/Prep_Imgs\")\n",
    "    \n",
    "    \"\"\"\n",
    "\n",
    "    # Get list of images\n",
    "    list_of_files = glob.glob(rootpath + filetype, recursive=True)\n",
    "    # Create index\n",
    "    num = 0\n",
    "\n",
    "    # Loop trough images\n",
    "    for imagepath in list_of_files:\n",
    "        img = cv2.imread(imagepath,0)\n",
    "        rows,cols = img.shape\n",
    "        # Rotate image\n",
    "        rot_M = cv2.getRotationMatrix2D(((cols-1)/2.0,(rows-1)/2.0),-10, 0.9)\n",
    "        img_rot =  cv2.warpAffine(img, rot_M, (cols,rows))\n",
    "        # Translate image\n",
    "        trans_M = np.float32([[1, 0, -35], [0, 1, 50]])\n",
    "        img_trans = cv2.warpAffine(img_rot, trans_M, (cols,rows))\n",
    "        # Crop image\n",
    "        img_crop = img_trans[150:500, 200:700]\n",
    "        #cv2.imshow(\"img_crop\", img_crop)\n",
    "        #cv2.waitKey(0)\n",
    "        #cv2.destroyAllWindows()\n",
    "        # Save image\n",
    "        cv2.imwrite(output + img_name + str(num) + \".tif\", img_crop)\n",
    "        # Increase index\n",
    "        num += 1        \n",
    "        \n",
    "def prepare_imgs(rootpath, filetype, output, img_name): \n",
    "    \"\"\"\n",
    "    Function to crop final images to be used in DeepACSA. \n",
    "    This removes Participant information and unnecessary margins.\n",
    "    Images can be nested to up to two subdirectories.\n",
    "    Arguments: Rootpath of folder with images to be cropped,\n",
    "               type of image files (tiff, png, bmp...), \n",
    "               output directory for images, \n",
    "               name of outputted images.\n",
    "    Returns: Cropped and flipped images in output directory. \n",
    "    Example: \n",
    "    >>> prepare_images(\"C:/User/Desktop/Imgs\", \".tif\",\n",
    "                       \"C:/User/Desktop/Imgs/out\", \"crop\")\n",
    "    \n",
    "    \"\"\"\n",
    "    \n",
    "    # Get list of images\n",
    "    list_of_files = glob.glob(rootpath + filetype, recursive=True)\n",
    "    # Create index\n",
    "    num = 0\n",
    "\n",
    "    # Loop trough images\n",
    "    for imagepath in list_of_files: \n",
    "        img = cv2.imread(imagepath,0)\n",
    "        # Crop image\n",
    "        rows,cols = img.shape\n",
    "        img_crop = img[75:rows-50,50:cols-100]\n",
    "                       \n",
    "        #img_crop.show()\n",
    "        cv2.imwrite(output + img_name + str(num) + \".tif\", img_crop)\n",
    "        # Increase index\n",
    "        num += 1"
   ]
  },
  {
   "cell_type": "markdown",
   "id": "favorite-universe",
   "metadata": {},
   "source": [
    "## Execute functions"
   ]
  },
  {
   "cell_type": "markdown",
   "id": "settled-villa",
   "metadata": {},
   "source": [
    "### Quadrcieps VL"
   ]
  },
  {
   "cell_type": "markdown",
   "id": "copyrighted-grade",
   "metadata": {},
   "source": [
    "Use before creating image masks for training!"
   ]
  },
  {
   "cell_type": "code",
   "execution_count": 10,
   "id": "protecting-router",
   "metadata": {},
   "outputs": [],
   "source": [
    "# Get hardcoded root, image file type and output directory\n",
    "rootpath = \"C:/Users/Paul/Desktop/Ultrasound PLYO/Young\"\n",
    "filetype = \"/**/*.bmp\" \n",
    "# Subfolder in WD needed called \"Output\"\n",
    "output = \"C:/Users/Paul/Desktop/Ultrasound PLYO/Output_young_VL/\"\n",
    "img_name = \"vl_crop\"\n",
    "\n",
    "prepare_quad_vl_imgs(rootpath, filetype, output, img_name)"
   ]
  },
  {
   "cell_type": "markdown",
   "id": "sunset-builder",
   "metadata": {},
   "source": [
    "### Quadriceps RF"
   ]
  },
  {
   "cell_type": "markdown",
   "id": "respected-killer",
   "metadata": {},
   "source": [
    "Use before creating image masks for training!"
   ]
  },
  {
   "cell_type": "code",
   "execution_count": 11,
   "id": "adapted-analysis",
   "metadata": {},
   "outputs": [],
   "source": [
    "# Get hardcoded root, image file type and output directory\n",
    "rootpath = \"C:/Users/Paul/Desktop/Ultrasound PLYO/Young\"\n",
    "filetype = \"/**/*.bmp\" \n",
    "# Subfolder in WD needed called \"Output\"\n",
    "output = \"C:/Users/Paul/Desktop/Ultrasound PLYO/Output_young_RF/\"\n",
    "img_name = \"rf_crop\"\n",
    "\n",
    "prepare_quad_rf_imgs(rootpath, filetype, output, img_name)"
   ]
  },
  {
   "cell_type": "markdown",
   "id": "indonesian-modeling",
   "metadata": {},
   "source": [
    "### Prepare final imgs and masks"
   ]
  },
  {
   "cell_type": "markdown",
   "id": "effective-firmware",
   "metadata": {},
   "source": [
    "Use after creating masks on both, images and masks!"
   ]
  },
  {
   "cell_type": "code",
   "execution_count": 11,
   "id": "76fde7f5",
   "metadata": {},
   "outputs": [],
   "source": [
    "# Get hardcoded root, image file type and output directory\n",
    "rootpath = \"C:/Users/Paul/Desktop/VL\"\n",
    "filetype = \"/**/*.tif\"\n",
    "output = \"C:/Users/Paul/Desktop/VL/\"\n",
    "img_name  = \"vl_crop\"\n",
    "\n",
    "prepare_imgs(rootpath, filetype, output, img_name)"
   ]
  },
  {
   "cell_type": "code",
   "execution_count": null,
   "id": "diagnostic-fountain",
   "metadata": {},
   "outputs": [],
   "source": []
  }
 ],
 "metadata": {
  "kernelspec": {
   "display_name": "Python 3",
   "language": "python",
   "name": "python3"
  },
  "language_info": {
   "codemirror_mode": {
    "name": "ipython",
    "version": 3
   },
   "file_extension": ".py",
   "mimetype": "text/x-python",
   "name": "python",
   "nbconvert_exporter": "python",
   "pygments_lexer": "ipython3",
   "version": "3.8.5"
  }
 },
 "nbformat": 4,
 "nbformat_minor": 5
}
