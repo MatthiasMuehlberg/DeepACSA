{
 "cells": [
  {
   "cell_type": "code",
   "execution_count": 2,
   "id": "165f4215",
   "metadata": {},
   "outputs": [],
   "source": [
    "import math\n",
    "import numpy as np\n",
    "import pandas as pd\n",
    "import cv2\n",
    "import matplotlib.pyplot as plt"
   ]
  },
  {
   "cell_type": "code",
   "execution_count": 19,
   "id": "94e94c2a",
   "metadata": {},
   "outputs": [],
   "source": [
    "class ScalinglineError(Exception):\n",
    "    pass\n",
    "\n",
    "class StaticScalingError(Exception):\n",
    "    pass\n",
    "\n",
    "\n",
    "def calibrate_distance_static(nonflipped_img, path_to_image: str, spacing: int, \n",
    "                              depth: float, flip: int):\n",
    "    \"\"\"Calculates scalingline length of image based computed\n",
    "        distance between two points on image and image depth.\n",
    "\n",
    "    Arguments:\n",
    "        Original(nonflipped) image with scaling lines on right border,\n",
    "        Path to image that should be analyzed,\n",
    "        distance between scaling points (mm),\n",
    "        US scanning depth (cm), \n",
    "        flip flag of image.\n",
    "\n",
    "    Returns:\n",
    "        Length of scaling line (pixel).\n",
    "\n",
    "    Example:\n",
    "        >>>calibrate_distance_manually(Image, 5, 4.5, 0)\n",
    "        5 mm corresponds to 95 pixels\n",
    "    \"\"\"\n",
    "    # calibrate according to scale at the right border of image\n",
    "    if flip == 1:\n",
    "        nonflipped_img = np.fliplr(nonflipped_img)\n",
    "    img2 = np.uint8(nonflipped_img)\n",
    "    height = img2.shape[0]\n",
    "    width = img2.shape[1]\n",
    "    imgscale = img2[int(height*0.4):(height-int(height*0.3)), (width-int(width*0.15)):width]\n",
    "    \"\"\"\n",
    "    fig, (ax1) = plt.subplots(1, 1, figsize=(15, 15))\n",
    "    ax1.imshow(imgscale, cmap=\"gray\")\n",
    "    ax1.grid(False)\n",
    "    \"\"\"\n",
    "    # search for rows with white pixels, calculate median of distance\n",
    "    print(imgscale.max(axis=1))\n",
    "    calib_dist = np.max(np.diff(np.argwhere(imgscale.max(axis=1) > 175),\n",
    "                                   axis=0))\n",
    "    \n",
    "    if pd.isnull(calib_dist) is True: \n",
    "        raise StaticScalingError(f\"Spacing not found in {path_to_image}\")\n",
    "\n",
    "    scalingline_length = depth * calib_dist\n",
    "\n",
    "    scale_statement = str(spacing) + ' mm corresponds to ' + str(calib_dist) + ' pixels'\n",
    "    \n",
    "    \n",
    "    return scalingline_length, imgscale, scale_statement\n"
   ]
  },
  {
   "cell_type": "code",
   "execution_count": 20,
   "id": "95ab1aeb",
   "metadata": {},
   "outputs": [
    {
     "name": "stdout",
     "output_type": "stream",
     "text": [
      "[  0   0   0   0   0   0   0   0   0   0   0   0   0   0   0   0   0   0\n",
      "   0   0   0   0   0   0   0   0   0   0   0   0   0   0   1   1 179   0\n",
      "   0   0   1   0   0   0   0   0   0   0   0   0   0   0   0   0   0   0\n",
      "   0   0   0   0   0   0   0   0   0   0   0   0   0   0   0   0   0   0\n",
      "   0   0   0   0   0   0   0   0   0   0   0   0   0   0   0   0   0   0\n",
      "   0   0   0   0   0   0   0   0 178   0   0   0   0   0   0   0   0   0\n",
      "   0   0   0   0   0   0   0   0   0   0   0   0   0   0   0   0   0   0\n",
      "   0   0   0   0   0   0   0   0   0   0   0   0   0   0   0   0   0   0\n",
      "   0   0   0   0   0   0   0   0   0   0   0   0   0   0   0   0   1   0\n",
      "   1 179   0   0   0   1   0   0   0   0   0   0   0   0   0   0   0   0\n",
      "   0   0   0   0   0   0   0   0   0   0   0   0   0   0   0   0   0   0\n",
      "   0   0   0   0   0   0   0   0   0   0   0   0   0   0   0   0   0   0\n",
      "   0   0   0   0   0   0   0   0   0   0   0 178   0   0   0   0   0   0\n",
      "   0   0   0   0   0   0   0   0   0   0   0   0   0   0   0   0   0   0\n",
      "   0   0   0   0   0   0   0   0   0   0   0   0   0   0   0   0   0   0\n",
      "   0   0   0   0   0   0   0   0   0   0   0   0   0   0   0   0   0   0\n",
      "   1   0   0   0 179   1   0   1   0   0   0   0   0   0   0   0   0   0\n",
      "   0   0   0   0   0   0   0   0   0   0   0   0   0   0   0   0   0   0]\n"
     ]
    },
    {
     "data": {
      "text/plain": [
       "(481.0,\n",
       " array([[0, 0, 0, ..., 0, 0, 0],\n",
       "        [0, 0, 0, ..., 0, 0, 0],\n",
       "        [0, 0, 0, ..., 0, 0, 0],\n",
       "        ...,\n",
       "        [0, 0, 0, ..., 0, 0, 0],\n",
       "        [0, 0, 0, ..., 0, 0, 0],\n",
       "        [0, 0, 0, ..., 0, 0, 0]], dtype=uint8),\n",
       " '10 mm corresponds to 65 pixels')"
      ]
     },
     "execution_count": 20,
     "metadata": {},
     "output_type": "execute_result"
    }
   ],
   "source": [
    "path_to_img = \"rf_img_859.tif\"\n",
    "img = cv2.imread(path_to_img, 0)\n",
    "nonflipped_img = img\n",
    "spacing = 10\n",
    "depth = 7.4\n",
    "flip = 0\n",
    "\n",
    "calibrate_distance_static(nonflipped_img, path_to_img, spacing, depth, flip)"
   ]
  },
  {
   "cell_type": "code",
   "execution_count": null,
   "id": "1facb5b5",
   "metadata": {},
   "outputs": [],
   "source": []
  },
  {
   "cell_type": "code",
   "execution_count": null,
   "id": "d60f59f2",
   "metadata": {},
   "outputs": [],
   "source": []
  }
 ],
 "metadata": {
  "kernelspec": {
   "display_name": "Python 3",
   "language": "python",
   "name": "python3"
  },
  "language_info": {
   "codemirror_mode": {
    "name": "ipython",
    "version": 3
   },
   "file_extension": ".py",
   "mimetype": "text/x-python",
   "name": "python",
   "nbconvert_exporter": "python",
   "pygments_lexer": "ipython3",
   "version": "3.8.10"
  }
 },
 "nbformat": 4,
 "nbformat_minor": 5
}
